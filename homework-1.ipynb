{
 "cells": [
  {
   "metadata": {},
   "cell_type": "markdown",
   "source": "### Q1",
   "id": "edb73233e27d3dc5"
  },
  {
   "metadata": {
    "ExecuteTime": {
     "end_time": "2024-09-16T04:23:38.559612Z",
     "start_time": "2024-09-16T04:23:37.699549Z"
    }
   },
   "cell_type": "code",
   "source": [
    "import networkx as nx\n",
    "import numpy as np\n",
    "import matlab.engine\n",
    "\n",
    "# Helper function to load and analyze a graph\n",
    "def analyze_graph(file_path, network_name):\n",
    "    # Step 1: Load the undirected graph using networkx\n",
    "    G_nx = nx.read_edgelist(file_path, create_using=nx.Graph(), nodetype=int)\n",
    "\n",
    "    # Step 2: Check the basic properties of the graph\n",
    "    num_nodes = G_nx.number_of_nodes()\n",
    "    num_edges = G_nx.number_of_edges()\n",
    "    \n",
    "    # Degree statistics\n",
    "    degrees = np.array([deg for (node, deg) in G_nx.degree()])\n",
    "    max_degree = np.max(degrees)\n",
    "    min_degree = np.min(degrees)\n",
    "    avg_degree = np.mean(degrees)\n",
    "\n",
    "    # Degree distribution type (simplified: scale-free or unknown)\n",
    "    if np.max(degrees) > 10 * np.mean(degrees):  # rough heuristic for scale-free\n",
    "        degree_dist_type = 'Scale-free'\n",
    "    else:\n",
    "        degree_dist_type = 'Unknown'\n",
    "\n",
    "    # Step 3: Check for connectivity (undirected graph)\n",
    "    is_connected = nx.is_connected(G_nx)\n",
    "    if not is_connected:\n",
    "        diameter = 'N/A - Graph not connected'\n",
    "    else:\n",
    "        diameter = 'Good'  # Diameter only makes sense for connected graphs\n",
    "        \n",
    "\n",
    "    # Print out the required information\n",
    "    print(f\"--- {network_name} ---\")\n",
    "    print(f\"n (Number of nodes): {num_nodes}\")\n",
    "    print(f\"m (Number of edges): {num_edges}\")\n",
    "    print(f\"min(d) (Minimum degree): {min_degree}\")\n",
    "    print(f\"max(d) (Maximum degree): {max_degree}\")\n",
    "    print(f\"avg(d) (Average degree): {avg_degree:.2f}\")\n",
    "    print(f\"Degree distribution type: {degree_dist_type}\")\n",
    "    print(f\"Diameter: {diameter}\")\n",
    "    print()\n",
    "\n",
    "    # Step 4: Compute the Local Clustering Coefficient (LCC) for each node\n",
    "    lcc_dict = nx.clustering(G_nx)\n",
    "    lcc_values = np.array(list(lcc_dict.values()))  # Convert to numpy array\n",
    "\n",
    "    return degrees, lcc_values\n",
    "\n",
    "# Helper function to plot distributions using MATLAB\n",
    "def plot_with_matlab(eng, degree, lcc_values, network_name):\n",
    "    nbins = 50\n",
    "    \n",
    "    # Plot Degree Distribution\n",
    "    eng.workspace['d'] = degree\n",
    "    figID = 1\n",
    "    eng.eval(f\"plot_distribution(d, '{network_name} Degree Distribution', {nbins}, {figID})\", nargout=0)\n",
    "    \n",
    "    # Plot LCC Distribution\n",
    "    eng.workspace['lcc'] = lcc_values\n",
    "    figID = 2\n",
    "    eng.eval(f\"plot_distribution(lcc, '{network_name} LCC Distribution', {nbins}, {figID})\", nargout=0)\n"
   ],
   "id": "2c4dfbec05e243be",
   "outputs": [],
   "execution_count": 1
  },
  {
   "metadata": {
    "ExecuteTime": {
     "end_time": "2024-09-16T03:18:35.681854Z",
     "start_time": "2024-09-16T03:18:24.392905Z"
    }
   },
   "cell_type": "code",
   "source": [
    "\n",
    "eng = matlab.engine.start_matlab()\n",
    "eng.eval(\"addpath(genpath('Mcodes'))\", nargout=0)\n",
    "\n",
    "file_path_amazon = 'data/com-amazon.ungraph/com-amazon.ungraph.txt'\n",
    "degree_amazon, lcc_amazon = analyze_graph(file_path_amazon, \"Amazon\")\n",
    "plot_with_matlab(eng, degree_amazon, lcc_amazon, \"Amazon\")"
   ],
   "id": "665773646a9f9350",
   "outputs": [
    {
     "name": "stdout",
     "output_type": "stream",
     "text": [
      "--- Amazon ---\n",
      "n (Number of nodes): 334863\n",
      "m (Number of edges): 925872\n",
      "min(d) (Minimum degree): 1\n",
      "max(d) (Maximum degree): 549\n",
      "avg(d) (Average degree): 5.53\n",
      "Degree distribution type: Scale-free\n",
      "Diameter: Good\n",
      "\n"
     ]
    }
   ],
   "execution_count": 7
  },
  {
   "metadata": {
    "ExecuteTime": {
     "end_time": "2024-09-16T02:07:12.640563Z",
     "start_time": "2024-09-16T02:07:10.978357Z"
    }
   },
   "cell_type": "code",
   "source": [
    "\n",
    "file_path_facebook = 'data/facebook/facebook_combined.txt'\n",
    "degree_facebook, lcc_facebook = analyze_graph(file_path_facebook, \"Facebook\")\n",
    "plot_with_matlab(eng, degree_facebook, lcc_facebook, \"Facebook\")"
   ],
   "id": "9248dfa539547f01",
   "outputs": [
    {
     "name": "stdout",
     "output_type": "stream",
     "text": [
      "--- Facebook ---\n",
      "n (Number of nodes): 4039\n",
      "m (Number of edges): 88234\n",
      "min(d) (Minimum degree): 1\n",
      "max(d) (Maximum degree): 1045\n",
      "avg(d) (Average degree): 43.69\n",
      "Degree distribution type: Scale-free\n",
      "Diameter: Good\n",
      "\n"
     ]
    }
   ],
   "execution_count": 3
  },
  {
   "metadata": {
    "ExecuteTime": {
     "end_time": "2024-09-16T02:08:02.516029Z",
     "start_time": "2024-09-16T02:07:55.465936Z"
    }
   },
   "cell_type": "code",
   "source": [
    "\n",
    "file_path_dblp = 'data/COM-DBLP/com-dblp.ungraph.txt'\n",
    "degree_dblp, lcc_dblp = analyze_graph(file_path_dblp, \"DBLP\")\n",
    "plot_with_matlab(eng, degree_dblp, lcc_dblp, \"DBLP\")\n",
    "\n"
   ],
   "id": "a346d307ae854925",
   "outputs": [
    {
     "name": "stdout",
     "output_type": "stream",
     "text": [
      "--- DBLP ---\n",
      "n (Number of nodes): 317080\n",
      "m (Number of edges): 1049866\n",
      "min(d) (Minimum degree): 1\n",
      "max(d) (Maximum degree): 343\n",
      "avg(d) (Average degree): 6.62\n",
      "Degree distribution type: Scale-free\n",
      "Diameter: Good\n",
      "\n"
     ]
    }
   ],
   "execution_count": 4
  },
  {
   "metadata": {
    "ExecuteTime": {
     "end_time": "2024-09-16T02:08:37.608433Z",
     "start_time": "2024-09-16T02:08:37.595437Z"
    }
   },
   "cell_type": "code",
   "source": "eng.exit()",
   "id": "afc96474ac5c012c",
   "outputs": [],
   "execution_count": 5
  },
  {
   "metadata": {},
   "cell_type": "markdown",
   "source": "### Q2",
   "id": "df909a38b582fb7"
  },
  {
   "metadata": {
    "ExecuteTime": {
     "end_time": "2024-09-16T04:23:43.302992Z",
     "start_time": "2024-09-16T04:23:41.100574Z"
    }
   },
   "cell_type": "code",
   "source": [
    "# Helper function to load G_1\n",
    "\n",
    "\n",
    "def load_g1(file_path):\n",
    "    # Load the undirected graph using networkx\n",
    "    G_nx = nx.read_edgelist(file_path, create_using=nx.Graph(), nodetype=int)\n",
    "    return G_nx\n",
    "\n",
    "\n",
    "# New function to compute the G_2 graph from G_1\n",
    "def construct_g2_sparse(G_nx):\n",
    "    # Compute the sparse adjacency matrix of G_1\n",
    "    A1_sparse = nx.to_scipy_sparse_array(G_nx)  # This is the correct method\n",
    "    \n",
    "    # Compute A_2 = A_1^2 (2-step connectivity) using sparse matrix multiplication\n",
    "    A2_sparse = A1_sparse.dot(A1_sparse)\n",
    "\n",
    "    # Create the G_2 graph from the sparse matrix\n",
    "    G2_nx = nx.from_scipy_sparse_array(A2_sparse)\n",
    "\n",
    "    return G2_nx\n",
    "\n",
    "\n",
    "# Helper function to analyze a graph (G_2)\n",
    "def analyze_g2(G2_nx, network_name):\n",
    "    # Degree statistics\n",
    "    degrees = np.array([deg for (node, deg) in G2_nx.degree()])\n",
    "    max_degree = np.max(degrees)\n",
    "    min_degree = np.min(degrees)\n",
    "    avg_degree = np.mean(degrees)\n",
    "\n",
    "    # # Degree distribution type (simplified: scale-free or unknown)\n",
    "    # if np.max(degrees) > 10 * np.mean(degrees):  # rough heuristic for scale-free\n",
    "    #     degree_dist_type = 'Scale-free'\n",
    "    # else:\n",
    "    #     degree_dist_type = 'Unknown'\n",
    "\n",
    "    # Step 3: Check for connectivity (undirected graph)\n",
    "    # is_connected = nx.is_connected(G2_nx)\n",
    "    # diameter = nx.diameter(G2_nx) if is_connected else 'N/A - Graph not connected'\n",
    "\n",
    "    # Print out the required information\n",
    "    print(f\"--- {network_name} (G2) ---\")\n",
    "    print(f\"min(d) (Minimum degree): {min_degree}\")\n",
    "    print(f\"max(d) (Maximum degree): {max_degree}\")\n",
    "    print(f\"avg(d) (Average degree): {avg_degree:.2f}\")\n",
    "    # print(f\"Degree distribution type: {degree_dist_type}\")\n",
    "    # print(f\"Diameter: {diameter}\")\n",
    "    print()\n",
    "\n",
    "    # Step 4: Compute the Local Clustering Coefficient (LCC) for each node\n",
    "    lcc_dict = nx.clustering(G2_nx)\n",
    "    lcc_values = np.array(list(lcc_dict.values()))  # Convert to numpy array\n",
    "\n",
    "    return degrees, lcc_values\n",
    "\n",
    "\n",
    "# Helper function to plot distributions using MATLAB\n",
    "def plot_with_matlab(eng, degree, lcc_values, network_name, graph_label=\"G2\"):\n",
    "    nbins = 50\n",
    "\n",
    "    # Plot Degree Distribution\n",
    "    eng.workspace['d'] = degree\n",
    "    figID = 1\n",
    "    eng.eval(f\"plot_distribution(d, '{network_name} Degree Distribution ({graph_label})', {nbins}, {figID})\", nargout=0)\n",
    "\n",
    "    # Plot LCC Distribution\n",
    "    eng.workspace['lcc'] = lcc_values\n",
    "    figID = 2\n",
    "    eng.eval(f\"plot_distribution(lcc, '{network_name} LCC Distribution ({graph_label})', {nbins}, {figID})\", nargout=0)\n",
    "\n",
    "\n",
    "eng = matlab.engine.start_matlab()\n",
    "eng.eval(\"addpath(genpath('Mcodes'))\", nargout=0)"
   ],
   "id": "6887a1ac93bcd176",
   "outputs": [],
   "execution_count": 2
  },
  {
   "metadata": {
    "ExecuteTime": {
     "end_time": "2024-09-16T04:10:40.630856Z",
     "start_time": "2024-09-16T04:09:01.906885Z"
    }
   },
   "cell_type": "code",
   "source": [
    "\n",
    "file_path_amazon = 'data/com-amazon.ungraph/com-amazon.ungraph.txt'\n",
    "G1_amazon = load_g1(file_path_amazon)  # Load G1 (recompute)\n",
    "\n",
    "G2_amazon = construct_g2_sparse(G1_amazon)  # Construct G2 from G1\n",
    "degree_amazon_g2, lcc_amazon_g2 = analyze_g2(G2_amazon, \"Amazon\")  # Analyze G2\n",
    "\n",
    "# Plot results for G2 (Amazon)\n",
    "plot_with_matlab(eng, degree_amazon_g2, lcc_amazon_g2, \"Amazon\", \"G2\")"
   ],
   "id": "9ae3c162b6511c1d",
   "outputs": [
    {
     "name": "stdout",
     "output_type": "stream",
     "text": [
      "--- Amazon (G2) ---\n",
      "min(d) (Minimum degree): 3\n",
      "max(d) (Maximum degree): 1328\n",
      "avg(d) (Average degree): 42.15\n",
      "\n"
     ]
    }
   ],
   "execution_count": 7
  },
  {
   "metadata": {
    "ExecuteTime": {
     "end_time": "2024-09-16T04:08:18.264339Z",
     "start_time": "2024-09-16T04:06:58.893223Z"
    }
   },
   "cell_type": "code",
   "source": [
    "\n",
    "file_path_facebook = 'data/facebook/facebook_combined.txt'\n",
    "G1_facebook = load_g1(file_path_facebook)  # Load G1 (recompute)\n",
    "\n",
    "G2_facebook = construct_g2_sparse(G1_facebook)  # Construct G2 from G1\n",
    "degree_facebook_g2, lcc_facebook_g2 = analyze_g2(G2_facebook, \"Facebook\")  # Analyze G2\n",
    "\n",
    "# Plot results for G2 (Facebook)\n",
    "plot_with_matlab(eng, degree_facebook_g2, lcc_facebook_g2, \"Facebook\", \"G2\")"
   ],
   "id": "cd58ee7c9b1e0084",
   "outputs": [
    {
     "name": "stdout",
     "output_type": "stream",
     "text": [
      "--- Facebook (G2) ---\n",
      "min(d) (Minimum degree): 58\n",
      "max(d) (Maximum degree): 2916\n",
      "avg(d) (Average degree): 718.13\n",
      "\n"
     ]
    }
   ],
   "execution_count": 6
  },
  {
   "metadata": {
    "ExecuteTime": {
     "end_time": "2024-09-16T04:32:41.030802Z",
     "start_time": "2024-09-16T04:23:45.955293Z"
    }
   },
   "cell_type": "code",
   "source": [
    "\n",
    "file_path_dblp = 'data/COM-DBLP/com-dblp.ungraph.txt'\n",
    "G1_dblp = load_g1(file_path_dblp)  # Load G1 (recompute)\n",
    "\n",
    "G2_dblp = construct_g2_sparse(G1_dblp)  # Construct G2 from G1\n",
    "degree_dblp_g2, lcc_dblp_g2 = analyze_g2(G2_dblp, \"DBLP\")  # Analyze G2\n",
    "\n",
    "# Plot results for G2 (DBLP)\n",
    "plot_with_matlab(eng, degree_dblp_g2, lcc_dblp_g2, \"DBLP\", \"G2\")"
   ],
   "id": "dce9d449fa47c755",
   "outputs": [
    {
     "name": "stdout",
     "output_type": "stream",
     "text": [
      "--- DBLP (G2) ---\n",
      "min(d) (Minimum degree): 3\n",
      "max(d) (Maximum degree): 5396\n",
      "avg(d) (Average degree): 88.07\n",
      "\n"
     ]
    }
   ],
   "execution_count": 3
  },
  {
   "metadata": {},
   "cell_type": "code",
   "outputs": [],
   "execution_count": null,
   "source": [
    "\n",
    "eng.exit()"
   ],
   "id": "d8c8964fc6d4aa1f"
  }
 ],
 "metadata": {
  "kernelspec": {
   "display_name": "Python 3",
   "language": "python",
   "name": "python3"
  },
  "language_info": {
   "codemirror_mode": {
    "name": "ipython",
    "version": 3
   },
   "file_extension": ".py",
   "mimetype": "text/x-python",
   "name": "python",
   "nbconvert_exporter": "python",
   "pygments_lexer": "ipython3",
   "version": "3.10.0"
  }
 },
 "nbformat": 4,
 "nbformat_minor": 5
}
