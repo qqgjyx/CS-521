{
 "cells": [
  {
   "cell_type": "code",
   "id": "initial_id",
   "metadata": {
    "collapsed": true,
    "ExecuteTime": {
     "end_time": "2024-09-15T20:33:33.782083Z",
     "start_time": "2024-09-15T20:33:33.579754Z"
    }
   },
   "source": [
    "import networkx as nx\n",
    "import numpy as np\n",
    "\n",
    "# Load and process the directed graph\n",
    "loader = DiGraph('data/Cit-HepTh/Cit-HepTh.txt', skrows=4)\n",
    "\n",
    "# Check number of nodes (n) and edges (m) after removing duplicates and self-loops\n",
    "print(f\"Custom DiGraph implementation:\")\n",
    "print(f\"Number of nodes (n): {loader.n}\")\n",
    "print(f\"Number of edges (m): {loader.m}\")\n",
    "\n",
    "# Run the adjacency matrix assertions to check its correctness\n",
    "loader.assert_adjacency_matrix()\n",
    "\n",
    "# Retrieve matrices\n",
    "A_custom = loader.A()  # Get the adjacency matrix\n",
    "B_custom = loader.B()  # Get the incidence matrix\n",
    "L_custom = loader.L()  # Get the Laplacian matrix\n",
    "\n",
    "# Using networkx to \"cheat\"\n",
    "print(\"\\nNetworkX DiGraph comparison:\")\n",
    "\n",
    "# Load the data into a directed graph using NetworkX\n",
    "edges = np.loadtxt('data/Cit-HepTh/Cit-HepTh.txt', delimiter='\\t', skiprows=4).astype(int)\n",
    "G_nx = nx.DiGraph()\n",
    "G_nx.add_edges_from(edges[:, :2])\n",
    "\n",
    "# Check number of nodes and edges\n",
    "print(f\"Number of nodes (n): {G_nx.number_of_nodes()}\")\n",
    "print(f\"Number of edges (m): {G_nx.number_of_edges()}\")\n",
    "\n",
    "# Get the adjacency matrix using NetworkX (as a NumPy array)\n",
    "A_nx = nx.adjacency_matrix(G_nx).todense()\n",
    "print(f\"Adjacency matrix (non-symmetric entries) in custom A: {(A_custom != A_custom.T).sum()}\")\n",
    "print(f\"Adjacency matrix (non-symmetric entries) in NetworkX A: {(A_nx != A_nx.T).sum()}\")\n",
    "\n",
    "# Load and process the undirected graph\n",
    "loader = Graph('data/Cit-HepTh/Cit-HepTh.txt', skrows=4)\n",
    "\n",
    "# Check number of nodes (n) and edges (m) after removing duplicates and self-loops\n",
    "print(f\"\\nCustom Graph (Undirected) implementation:\")\n",
    "print(f\"Number of nodes (n): {loader.n}\")\n",
    "print(f\"Number of edges (m): {loader.m}\")\n",
    "\n",
    "# Run the adjacency matrix assertions to check its correctness\n",
    "loader.assert_adjacency_matrix()\n",
    "\n",
    "# Retrieve matrices\n",
    "A_custom = loader.A()  # Get the adjacency matrix\n",
    "B_custom = loader.B()  # Get the incidence matrix\n",
    "L_custom = loader.L()  # Get the Laplacian matrix\n",
    "\n",
    "# Using networkx to \"cheat\"\n",
    "print(\"\\nNetworkX Graph comparison:\")\n",
    "\n",
    "# Load the data into an undirected graph using NetworkX\n",
    "edges = np.loadtxt('data/Cit-HepTh/Cit-HepTh.txt', delimiter='\\t', skiprows=4).astype(int)\n",
    "G_nx = nx.Graph()\n",
    "G_nx.add_edges_from(edges[:, :2])\n",
    "\n",
    "# Check number of nodes and edges\n",
    "print(f\"Number of nodes (n): {G_nx.number_of_nodes()}\")\n",
    "print(f\"Number of edges (m): {G_nx.number_of_edges()}\")\n",
    "\n",
    "# Get the adjacency matrix using NetworkX (as a NumPy array)\n",
    "A_nx = nx.adjacency_matrix(G_nx).todense()\n",
    "print(f\"Adjacency matrix (non-symmetric entries) in custom A: {(A_custom != A_custom.T).sum()}\")\n",
    "print(f\"Adjacency matrix (non-symmetric entries) in NetworkX A: {(A_nx != A_nx.T).sum()}\")\n"
   ],
   "outputs": [
    {
     "ename": "NameError",
     "evalue": "name 'DiGraph' is not defined",
     "output_type": "error",
     "traceback": [
      "\u001B[0;31m---------------------------------------------------------------------------\u001B[0m",
      "\u001B[0;31mNameError\u001B[0m                                 Traceback (most recent call last)",
      "Cell \u001B[0;32mIn[1], line 5\u001B[0m\n\u001B[1;32m      2\u001B[0m \u001B[38;5;28;01mimport\u001B[39;00m \u001B[38;5;21;01mnumpy\u001B[39;00m \u001B[38;5;28;01mas\u001B[39;00m \u001B[38;5;21;01mnp\u001B[39;00m\n\u001B[1;32m      4\u001B[0m \u001B[38;5;66;03m# Load and process the directed graph\u001B[39;00m\n\u001B[0;32m----> 5\u001B[0m loader \u001B[38;5;241m=\u001B[39m \u001B[43mDiGraph\u001B[49m(\u001B[38;5;124m'\u001B[39m\u001B[38;5;124mdata/Cit-HepTh/Cit-HepTh.txt\u001B[39m\u001B[38;5;124m'\u001B[39m, skrows\u001B[38;5;241m=\u001B[39m\u001B[38;5;241m4\u001B[39m)\n\u001B[1;32m      7\u001B[0m \u001B[38;5;66;03m# Check number of nodes (n) and edges (m) after removing duplicates and self-loops\u001B[39;00m\n\u001B[1;32m      8\u001B[0m \u001B[38;5;28mprint\u001B[39m(\u001B[38;5;124mf\u001B[39m\u001B[38;5;124m\"\u001B[39m\u001B[38;5;124mCustom DiGraph implementation:\u001B[39m\u001B[38;5;124m\"\u001B[39m)\n",
      "\u001B[0;31mNameError\u001B[0m: name 'DiGraph' is not defined"
     ]
    }
   ],
   "execution_count": 1
  }
 ],
 "metadata": {
  "kernelspec": {
   "display_name": "Python 3",
   "language": "python",
   "name": "python3"
  },
  "language_info": {
   "codemirror_mode": {
    "name": "ipython",
    "version": 2
   },
   "file_extension": ".py",
   "mimetype": "text/x-python",
   "name": "python",
   "nbconvert_exporter": "python",
   "pygments_lexer": "ipython2",
   "version": "2.7.6"
  }
 },
 "nbformat": 4,
 "nbformat_minor": 5
}
