{
 "cells": [
  {
   "cell_type": "code",
   "id": "initial_id",
   "metadata": {
    "collapsed": true,
    "ExecuteTime": {
     "end_time": "2024-09-12T22:28:29.251665Z",
     "start_time": "2024-09-12T22:28:27.247675Z"
    }
   },
   "source": [
    "import matlab.engine\n",
    "\n",
    "# Start MATLAB engine\n",
    "eng = matlab.engine.start_matlab()\n",
    "\n",
    "# Call MATLAB to print \"Hello, World!\"\n",
    "eng.eval(\"disp('MATLAB Engine for Python successfully started')\", nargout=0)\n",
    "\n",
    "# Stop MATLAB engine\n",
    "eng.quit()"
   ],
   "outputs": [
    {
     "name": "stdout",
     "output_type": "stream",
     "text": [
      "MATLAB Engine for Python successfully started\n"
     ]
    }
   ],
   "execution_count": 17
  },
  {
   "metadata": {},
   "cell_type": "markdown",
   "source": [
    "Task: Utilize `Mcodes/utility-functions/plot_distribution.m`\n",
    "\n",
    "Given an adjacency matrix, plot a rank distribution of the nodes by Python calling `plot_distribution` function.\n",
    "\n",
    "**Step 1: Create a matrix A with the following values:**"
   ],
   "id": "c38b6220ded2d690"
  },
  {
   "metadata": {
    "ExecuteTime": {
     "end_time": "2024-09-12T22:28:30.310319Z",
     "start_time": "2024-09-12T22:28:30.307019Z"
    }
   },
   "cell_type": "code",
   "source": [
    "import numpy as np\n",
    "\n",
    "\n",
    "# Parameters\n",
    "n = 50  # Number of nodes\n",
    "probability = 0.2  # Probability of an edge between nodes\n",
    "\n",
    "# Generate a random adjacency matrix with values 0 or 1 based on the probability\n",
    "adj_matrix = np.random.rand(n, n) < probability\n",
    "\n",
    "# Make sure there are no self-loops (no edges from a node to itself)\n",
    "np.fill_diagonal(adj_matrix, 0)\n",
    "\n",
    "# Convert the boolean matrix to integer type (1 for edges, 0 for no edges)\n",
    "adj_matrix = adj_matrix.astype(int)"
   ],
   "id": "5ee9cc9fbaa7626b",
   "outputs": [],
   "execution_count": 18
  },
  {
   "metadata": {},
   "cell_type": "markdown",
   "source": "",
   "id": "c71938ca168dc062"
  },
  {
   "metadata": {},
   "cell_type": "markdown",
   "source": "**Step 2: Calculate the rank_sequence, which store the rank of the nodes**",
   "id": "7ad55ea42c1c997"
  },
  {
   "metadata": {
    "ExecuteTime": {
     "end_time": "2024-09-12T22:28:32.348414Z",
     "start_time": "2024-09-12T22:28:32.346475Z"
    }
   },
   "cell_type": "code",
   "source": [
    "# Calculate the rank sequence of the nodes\n",
    "rank_sequence = np.sum(adj_matrix, axis=0)"
   ],
   "id": "949ad9094d1ade5b",
   "outputs": [],
   "execution_count": 19
  },
  {
   "metadata": {},
   "cell_type": "markdown",
   "source": "**Step 3: Call the `plot_distribution` function from MATLAB**",
   "id": "277989cbfc0ed248"
  },
  {
   "metadata": {
    "ExecuteTime": {
     "end_time": "2024-09-12T22:28:36.616999Z",
     "start_time": "2024-09-12T22:28:33.270430Z"
    }
   },
   "cell_type": "code",
   "source": [
    "# Start MATLAB engine\n",
    "eng = matlab.engine.start_matlab()\n",
    "\n",
    "# give the calculated rank_sequence to the engine\n",
    "eng.workspace['rank_sequence'] = rank_sequence\n",
    "\n",
    "# add the path to the MATLAB engine\n",
    "eng.addpath('Mcodes/utility-functions')\n",
    "\n",
    "# Call the plot_distribution function from MATLAB\n",
    "eng.eval(\"plot_distribution(rank_sequence, 'Degree Sequence', 20, 1)\", nargout=0)"
   ],
   "id": "778bb2761272d483",
   "outputs": [],
   "execution_count": 20
  },
  {
   "metadata": {},
   "cell_type": "markdown",
   "source": "**Step 5: Stop the MATLAB engine**",
   "id": "a95f10bb510ad5e5"
  },
  {
   "metadata": {},
   "cell_type": "code",
   "outputs": [],
   "execution_count": null,
   "source": "eng.quit()",
   "id": "add307a56a2185f1"
  },
  {
   "metadata": {},
   "cell_type": "markdown",
   "source": "# EE",
   "id": "c27bc1c37a108d9b"
  },
  {
   "metadata": {
    "ExecuteTime": {
     "end_time": "2024-09-13T15:26:55.618594Z",
     "start_time": "2024-09-13T15:26:55.615352Z"
    }
   },
   "cell_type": "code",
   "source": [
    "import os\n",
    "import networkx as nx\n",
    "import pandas as pd\n",
    "data_dir = os.path.expanduser(\"data/cora\")"
   ],
   "id": "bea9088a0c686a07",
   "outputs": [],
   "execution_count": 23
  },
  {
   "metadata": {
    "ExecuteTime": {
     "end_time": "2024-09-13T15:26:56.107641Z",
     "start_time": "2024-09-13T15:26:56.101717Z"
    }
   },
   "cell_type": "code",
   "source": [
    "edgelist = pd.read_csv(os.path.join(data_dir, \"cora.cites\"), sep='\\t', header=None, names=[\"target\", \"source\"])\n",
    "edgelist[\"label\"] = \"cites\""
   ],
   "id": "8a9dd4dcdd97afb2",
   "outputs": [],
   "execution_count": 24
  },
  {
   "metadata": {
    "ExecuteTime": {
     "end_time": "2024-09-13T15:27:04.423333Z",
     "start_time": "2024-09-13T15:27:04.413821Z"
    }
   },
   "cell_type": "code",
   "source": "edgelist.sample(frac=1).head(5)",
   "id": "d4a5bc7ca82e030a",
   "outputs": [
    {
     "data": {
      "text/plain": [
       "      target   source  label\n",
       "43        35  1153065  cites\n",
       "1377    6385    28473  cites\n",
       "5058  579108  1128314  cites\n",
       "1289    6213   628668  cites\n",
       "4446  189708   149669  cites"
      ],
      "text/html": [
       "<div>\n",
       "<style scoped>\n",
       "    .dataframe tbody tr th:only-of-type {\n",
       "        vertical-align: middle;\n",
       "    }\n",
       "\n",
       "    .dataframe tbody tr th {\n",
       "        vertical-align: top;\n",
       "    }\n",
       "\n",
       "    .dataframe thead th {\n",
       "        text-align: right;\n",
       "    }\n",
       "</style>\n",
       "<table border=\"1\" class=\"dataframe\">\n",
       "  <thead>\n",
       "    <tr style=\"text-align: right;\">\n",
       "      <th></th>\n",
       "      <th>target</th>\n",
       "      <th>source</th>\n",
       "      <th>label</th>\n",
       "    </tr>\n",
       "  </thead>\n",
       "  <tbody>\n",
       "    <tr>\n",
       "      <th>43</th>\n",
       "      <td>35</td>\n",
       "      <td>1153065</td>\n",
       "      <td>cites</td>\n",
       "    </tr>\n",
       "    <tr>\n",
       "      <th>1377</th>\n",
       "      <td>6385</td>\n",
       "      <td>28473</td>\n",
       "      <td>cites</td>\n",
       "    </tr>\n",
       "    <tr>\n",
       "      <th>5058</th>\n",
       "      <td>579108</td>\n",
       "      <td>1128314</td>\n",
       "      <td>cites</td>\n",
       "    </tr>\n",
       "    <tr>\n",
       "      <th>1289</th>\n",
       "      <td>6213</td>\n",
       "      <td>628668</td>\n",
       "      <td>cites</td>\n",
       "    </tr>\n",
       "    <tr>\n",
       "      <th>4446</th>\n",
       "      <td>189708</td>\n",
       "      <td>149669</td>\n",
       "      <td>cites</td>\n",
       "    </tr>\n",
       "  </tbody>\n",
       "</table>\n",
       "</div>"
      ]
     },
     "execution_count": 25,
     "metadata": {},
     "output_type": "execute_result"
    }
   ],
   "execution_count": 25
  },
  {
   "metadata": {
    "ExecuteTime": {
     "end_time": "2024-09-13T15:27:17.025916Z",
     "start_time": "2024-09-13T15:27:17.009760Z"
    }
   },
   "cell_type": "code",
   "source": [
    "Gnx = nx.from_pandas_edgelist(edgelist, edge_attr=\"label\")\n",
    "nx.set_node_attributes(Gnx, \"paper\", \"label\")"
   ],
   "id": "b237765d5ecd618",
   "outputs": [],
   "execution_count": 26
  },
  {
   "metadata": {
    "ExecuteTime": {
     "end_time": "2024-09-13T15:27:44.913885Z",
     "start_time": "2024-09-13T15:27:44.909867Z"
    }
   },
   "cell_type": "code",
   "source": "is_connected = nx.is_connected(Gnx)",
   "id": "41c028f750939f69",
   "outputs": [],
   "execution_count": 28
  },
  {
   "metadata": {
    "ExecuteTime": {
     "end_time": "2024-09-13T15:27:50.047772Z",
     "start_time": "2024-09-13T15:27:50.045627Z"
    }
   },
   "cell_type": "code",
   "source": "print(\"Is the graph connected?\", is_connected)",
   "id": "8cc7932f0cddc003",
   "outputs": [
    {
     "name": "stdout",
     "output_type": "stream",
     "text": [
      "Is the graph connected? False\n"
     ]
    }
   ],
   "execution_count": 29
  },
  {
   "metadata": {},
   "cell_type": "code",
   "outputs": [],
   "execution_count": null,
   "source": "",
   "id": "de7e4821b8fd4340"
  }
 ],
 "metadata": {
  "kernelspec": {
   "display_name": "Python 3",
   "language": "python",
   "name": "python3"
  },
  "language_info": {
   "codemirror_mode": {
    "name": "ipython",
    "version": 2
   },
   "file_extension": ".py",
   "mimetype": "text/x-python",
   "name": "python",
   "nbconvert_exporter": "python",
   "pygments_lexer": "ipython2",
   "version": "2.7.6"
  }
 },
 "nbformat": 4,
 "nbformat_minor": 5
}
