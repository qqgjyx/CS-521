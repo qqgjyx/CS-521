{
 "cells": [
  {
   "metadata": {
    "ExecuteTime": {
     "end_time": "2024-09-16T01:59:56.317145Z",
     "start_time": "2024-09-16T01:59:55.504384Z"
    }
   },
   "cell_type": "code",
   "source": [
    "import networkx as nx\n",
    "import numpy as np\n",
    "import matlab.engine\n",
    "\n",
    "# Helper function to load and analyze a graph\n",
    "def analyze_graph(file_path, network_name):\n",
    "    # Step 1: Load the undirected graph using networkx\n",
    "    G_nx = nx.read_edgelist(file_path, create_using=nx.Graph(), nodetype=int)\n",
    "\n",
    "    # Step 2: Check the basic properties of the graph\n",
    "    num_nodes = G_nx.number_of_nodes()\n",
    "    num_edges = G_nx.number_of_edges()\n",
    "    \n",
    "    # Degree statistics\n",
    "    degrees = np.array([deg for (node, deg) in G_nx.degree()])\n",
    "    max_degree = np.max(degrees)\n",
    "    min_degree = np.min(degrees)\n",
    "    avg_degree = np.mean(degrees)\n",
    "\n",
    "    # Degree distribution type (simplified: scale-free or unknown)\n",
    "    if np.max(degrees) > 10 * np.mean(degrees):  # rough heuristic for scale-free\n",
    "        degree_dist_type = 'Scale-free'\n",
    "    else:\n",
    "        degree_dist_type = 'Unknown'\n",
    "\n",
    "    # Step 3: Check for connectivity (undirected graph)\n",
    "    is_connected = nx.is_connected(G_nx)\n",
    "    if not is_connected:\n",
    "        diameter = 'N/A - Graph not connected'\n",
    "    else:\n",
    "        diameter = 'Good'  # Diameter only makes sense for connected graphs\n",
    "        \n",
    "\n",
    "    # Print out the required information\n",
    "    print(f\"--- {network_name} ---\")\n",
    "    print(f\"n (Number of nodes): {num_nodes}\")\n",
    "    print(f\"m (Number of edges): {num_edges}\")\n",
    "    print(f\"min(d) (Minimum degree): {min_degree}\")\n",
    "    print(f\"max(d) (Maximum degree): {max_degree}\")\n",
    "    print(f\"avg(d) (Average degree): {avg_degree:.2f}\")\n",
    "    print(f\"Degree distribution type: {degree_dist_type}\")\n",
    "    print(f\"Diameter: {diameter}\")\n",
    "    print()\n",
    "\n",
    "    # Step 4: Compute the Local Clustering Coefficient (LCC) for each node\n",
    "    lcc_dict = nx.clustering(G_nx)\n",
    "    lcc_values = np.array(list(lcc_dict.values()))  # Convert to numpy array\n",
    "\n",
    "    return degrees, lcc_values\n",
    "\n",
    "# Helper function to plot distributions using MATLAB\n",
    "def plot_with_matlab(eng, degree, lcc_values, network_name):\n",
    "    nbins = 50\n",
    "    \n",
    "    # Plot Degree Distribution\n",
    "    eng.workspace['d'] = degree\n",
    "    figID = 1\n",
    "    eng.eval(f\"plot_distribution(d, '{network_name} Degree Distribution', {nbins}, {figID})\", nargout=0)\n",
    "    \n",
    "    # Plot LCC Distribution\n",
    "    eng.workspace['lcc'] = lcc_values\n",
    "    figID = 2\n",
    "    eng.eval(f\"plot_distribution(lcc, '{network_name} LCC Distribution', {nbins}, {figID})\", nargout=0)\n"
   ],
   "id": "2c4dfbec05e243be",
   "outputs": [],
   "execution_count": 1
  },
  {
   "metadata": {
    "ExecuteTime": {
     "end_time": "2024-09-16T02:00:08.133629Z",
     "start_time": "2024-09-16T01:59:57.755472Z"
    }
   },
   "cell_type": "code",
   "source": [
    "\n",
    "eng = matlab.engine.start_matlab()\n",
    "eng.eval(\"addpath(genpath('Mcodes'))\", nargout=0)\n",
    "\n",
    "file_path_amazon = 'data/com-amazon.ungraph/com-amazon.ungraph.txt'\n",
    "degree_amazon, lcc_amazon = analyze_graph(file_path_amazon, \"Amazon\")\n",
    "plot_with_matlab(eng, degree_amazon, lcc_amazon, \"Amazon\")"
   ],
   "id": "665773646a9f9350",
   "outputs": [
    {
     "name": "stdout",
     "output_type": "stream",
     "text": [
      "--- Amazon ---\n",
      "n (Number of nodes): 334863\n",
      "m (Number of edges): 925872\n",
      "min(d) (Minimum degree): 1\n",
      "max(d) (Maximum degree): 549\n",
      "avg(d) (Average degree): 5.53\n",
      "Degree distribution type: Scale-free\n",
      "Diameter: Good\n",
      "\n"
     ]
    }
   ],
   "execution_count": 2
  },
  {
   "metadata": {
    "ExecuteTime": {
     "end_time": "2024-09-16T02:07:12.640563Z",
     "start_time": "2024-09-16T02:07:10.978357Z"
    }
   },
   "cell_type": "code",
   "source": [
    "\n",
    "file_path_facebook = 'data/facebook/facebook_combined.txt'\n",
    "degree_facebook, lcc_facebook = analyze_graph(file_path_facebook, \"Facebook\")\n",
    "plot_with_matlab(eng, degree_facebook, lcc_facebook, \"Facebook\")"
   ],
   "id": "9248dfa539547f01",
   "outputs": [
    {
     "name": "stdout",
     "output_type": "stream",
     "text": [
      "--- Facebook ---\n",
      "n (Number of nodes): 4039\n",
      "m (Number of edges): 88234\n",
      "min(d) (Minimum degree): 1\n",
      "max(d) (Maximum degree): 1045\n",
      "avg(d) (Average degree): 43.69\n",
      "Degree distribution type: Scale-free\n",
      "Diameter: Good\n",
      "\n"
     ]
    }
   ],
   "execution_count": 3
  },
  {
   "metadata": {
    "ExecuteTime": {
     "end_time": "2024-09-16T02:08:02.516029Z",
     "start_time": "2024-09-16T02:07:55.465936Z"
    }
   },
   "cell_type": "code",
   "source": [
    "\n",
    "file_path_dblp = 'data/COM-DBLP/com-dblp.ungraph.txt'\n",
    "degree_dblp, lcc_dblp = analyze_graph(file_path_dblp, \"DBLP\")\n",
    "plot_with_matlab(eng, degree_dblp, lcc_dblp, \"DBLP\")\n",
    "\n"
   ],
   "id": "a346d307ae854925",
   "outputs": [
    {
     "name": "stdout",
     "output_type": "stream",
     "text": [
      "--- DBLP ---\n",
      "n (Number of nodes): 317080\n",
      "m (Number of edges): 1049866\n",
      "min(d) (Minimum degree): 1\n",
      "max(d) (Maximum degree): 343\n",
      "avg(d) (Average degree): 6.62\n",
      "Degree distribution type: Scale-free\n",
      "Diameter: Good\n",
      "\n"
     ]
    }
   ],
   "execution_count": 4
  },
  {
   "metadata": {
    "ExecuteTime": {
     "end_time": "2024-09-16T02:08:37.608433Z",
     "start_time": "2024-09-16T02:08:37.595437Z"
    }
   },
   "cell_type": "code",
   "source": "eng.exit()",
   "id": "afc96474ac5c012c",
   "outputs": [],
   "execution_count": 5
  },
  {
   "metadata": {
    "ExecuteTime": {
     "end_time": "2024-09-16T01:38:51.798548Z",
     "start_time": "2024-09-16T01:38:46.870521Z"
    }
   },
   "cell_type": "code",
   "source": [
    "\n",
    "# Path to the undirected graph file\n",
    "\n",
    "# CA-CondMat not connected\n",
    "# Cit-HepPh not connected\n",
    "# cora\n",
    "file_path = 'data/com-amazon.ungraph/com-amazon.ungraph.txt'\n",
    "\n",
    "# Step 1: Load the undirected graph using networkx\n",
    "G_nx = nx.read_edgelist(file_path, create_using=nx.Graph(), nodetype=int)\n",
    "\n",
    "# Step 2: Check the basic properties of the graph\n",
    "num_nodes = G_nx.number_of_nodes()\n",
    "num_edges = G_nx.number_of_edges()\n",
    "print(f\"Number of nodes: {num_nodes}\")\n",
    "print(f\"Number of edges: {num_edges}\")\n",
    "\n",
    "# Step 3: Check for connectivity (undirected graph)\n",
    "# Check if the graph is connected\n",
    "is_connected = nx.is_connected(G_nx)\n",
    "print(f\"Is the graph connected? {is_connected}\")\n",
    "\n",
    "# If the graph is not connected, you can also find the number of connected components\n",
    "if not is_connected:\n",
    "    num_components = nx.number_connected_components(G_nx)\n",
    "    print(f\"Number of connected components: {num_components}\")\n",
    "\n",
    "# Step 4: Compute the Local Clustering Coefficient (LCC) for each node\n",
    "lcc_dict = nx.clustering(G_nx)  # returns a dictionary {node: lcc_value}\n",
    "lcc_values = np.array(list(lcc_dict.values()))  # Convert to numpy array\n",
    "\n",
    "# degree vector \n",
    "degree = np.array([deg for (node, deg) in G_nx.degree()])"
   ],
   "id": "c8010e0916b0eb9d",
   "outputs": [
    {
     "name": "stdout",
     "output_type": "stream",
     "text": [
      "Number of nodes: 334863\n",
      "Number of edges: 925872\n",
      "Is the graph connected? True\n"
     ]
    }
   ],
   "execution_count": 5
  },
  {
   "metadata": {
    "ExecuteTime": {
     "end_time": "2024-09-16T01:38:55.329336Z",
     "start_time": "2024-09-16T01:38:51.903660Z"
    }
   },
   "cell_type": "code",
   "source": [
    "eng = matlab.engine.start_matlab()\n",
    "eng.eval(\"addpath(genpath('Mcodes'))\", nargout=0)  # Recursively adds all subdirectories\n",
    "\n",
    "# Assign Python variables to MATLAB workspace\n",
    "eng.workspace['d'] = degree\n",
    "nbins = 50\n",
    "figID = 1\n",
    "\n",
    "# Corrected eval statement\n",
    "eng.eval(f\"plot_distribution(d, 'com-amazon Degree Distribution', {nbins}, {figID})\", nargout=0)\n"
   ],
   "id": "61159eb3c20f4b6b",
   "outputs": [],
   "execution_count": 6
  },
  {
   "metadata": {
    "ExecuteTime": {
     "end_time": "2024-09-16T01:38:56.243204Z",
     "start_time": "2024-09-16T01:38:55.477286Z"
    }
   },
   "cell_type": "code",
   "source": [
    "# Assign Python variables to MATLAB workspace\n",
    "eng.workspace['lcc'] = lcc_values  # Local Clustering Coefficient vector\n",
    "figID = 2\n",
    "# Step 6: Call the MATLAB plotting function for LCC distribution\n",
    "eng.eval(f\"plot_distribution(lcc, 'com-amazon LCC Distribution', {nbins}, {figID})\", nargout=0)\n"
   ],
   "id": "d64d0ba9008ea39",
   "outputs": [],
   "execution_count": 7
  },
  {
   "metadata": {
    "ExecuteTime": {
     "end_time": "2024-09-16T01:38:57.453901Z",
     "start_time": "2024-09-16T01:38:56.376396Z"
    }
   },
   "cell_type": "code",
   "source": [
    "# Path to the undirected graph file\n",
    "file_path = 'data/facebook/facebook_combined.txt'\n",
    "\n",
    "# Step 1: Load the undirected graph using networkx\n",
    "G_nx = nx.read_edgelist(file_path, create_using=nx.Graph(), nodetype=int)\n",
    "\n",
    "# Step 2: Check the basic properties of the graph\n",
    "num_nodes = G_nx.number_of_nodes()\n",
    "num_edges = G_nx.number_of_edges()\n",
    "print(f\"Number of nodes: {num_nodes}\")\n",
    "print(f\"Number of edges: {num_edges}\")\n",
    "\n",
    "# Step 3: Check for connectivity (undirected graph)\n",
    "# Check if the graph is connected\n",
    "is_connected = nx.is_connected(G_nx)\n",
    "print(f\"Is the graph connected? {is_connected}\")\n",
    "\n",
    "# If the graph is not connected, you can also find the number of connected components\n",
    "if not is_connected:\n",
    "    num_components = nx.number_connected_components(G_nx)\n",
    "    print(f\"Number of connected components: {num_components}\")\n",
    "\n",
    "# Step 4: Compute the Local Clustering Coefficient (LCC) for each node\n",
    "lcc_dict = nx.clustering(G_nx)  # returns a dictionary {node: lcc_value}\n",
    "lcc_values = np.array(list(lcc_dict.values()))  # Convert to numpy array\n",
    "\n",
    "# degree vector \n",
    "degree = np.array([deg for (node, deg) in G_nx.degree()])"
   ],
   "id": "49df489ccd20e71c",
   "outputs": [
    {
     "name": "stdout",
     "output_type": "stream",
     "text": [
      "Number of nodes: 4039\n",
      "Number of edges: 88234\n",
      "Is the graph connected? True\n"
     ]
    }
   ],
   "execution_count": 8
  },
  {
   "metadata": {
    "ExecuteTime": {
     "end_time": "2024-09-16T01:38:57.645647Z",
     "start_time": "2024-09-16T01:38:57.461524Z"
    }
   },
   "cell_type": "code",
   "source": [
    "eng.eval(\"clear all\", nargout=0)\n",
    "\n",
    "# Assign Python variables to MATLAB workspace\n",
    "eng.workspace['d'] = degree\n",
    "nbins = 50\n",
    "figID = 1\n",
    "\n",
    "# Corrected eval statement\n",
    "eng.eval(f\"plot_distribution(d, 'facebook Degree Distribution', {nbins}, {figID})\", nargout=0)\n",
    "\n"
   ],
   "id": "4eeb378974672eea",
   "outputs": [],
   "execution_count": 9
  },
  {
   "metadata": {
    "ExecuteTime": {
     "end_time": "2024-09-16T01:38:57.800201Z",
     "start_time": "2024-09-16T01:38:57.654364Z"
    }
   },
   "cell_type": "code",
   "source": [
    "# Assign Python variables to MATLAB workspace\n",
    "eng.workspace['lcc'] = lcc_values  # Local Clustering Coefficient vector\n",
    "figID = 2\n",
    "# Step 6: Call the MATLAB plotting function for LCC distribution\n",
    "eng.eval(f\"plot_distribution(lcc, 'facebook LCC Distribution', {nbins}, {figID})\", nargout=0)\n"
   ],
   "id": "286ddd7952711ffb",
   "outputs": [],
   "execution_count": 10
  },
  {
   "metadata": {
    "ExecuteTime": {
     "end_time": "2024-09-16T01:39:03.876690Z",
     "start_time": "2024-09-16T01:38:57.812667Z"
    }
   },
   "cell_type": "code",
   "source": [
    "\n",
    "# Path to the undirected graph file\n",
    "\n",
    "# CA-CondMat not connected\n",
    "# Cit-HepPh not connected\n",
    "# cora\n",
    "file_path = 'data/COM-DBLP/com-dblp.ungraph.txt'\n",
    "\n",
    "# Step 1: Load the undirected graph using networkx\n",
    "G_nx = nx.read_edgelist(file_path, create_using=nx.Graph(), nodetype=int)\n",
    "\n",
    "# Step 2: Check the basic properties of the graph\n",
    "num_nodes = G_nx.number_of_nodes()\n",
    "num_edges = G_nx.number_of_edges()\n",
    "print(f\"Number of nodes: {num_nodes}\")\n",
    "print(f\"Number of edges: {num_edges}\")\n",
    "\n",
    "# Step 3: Check for connectivity (undirected graph)\n",
    "# Check if the graph is connected\n",
    "is_connected = nx.is_connected(G_nx)\n",
    "print(f\"Is the graph connected? {is_connected}\")\n",
    "\n",
    "# If the graph is not connected, you can also find the number of connected components\n",
    "if not is_connected:\n",
    "    num_components = nx.number_connected_components(G_nx)\n",
    "    print(f\"Number of connected components: {num_components}\")\n",
    "\n",
    "# Step 4: Compute the Local Clustering Coefficient (LCC) for each node\n",
    "lcc_dict = nx.clustering(G_nx)  # returns a dictionary {node: lcc_value}\n",
    "lcc_values = np.array(list(lcc_dict.values()))  # Convert to numpy array\n",
    "\n",
    "# degree vector \n",
    "degree = np.array([deg for (node, deg) in G_nx.degree()])"
   ],
   "id": "1eea21ae8958e7dd",
   "outputs": [
    {
     "name": "stdout",
     "output_type": "stream",
     "text": [
      "Number of nodes: 317080\n",
      "Number of edges: 1049866\n",
      "Is the graph connected? True\n"
     ]
    }
   ],
   "execution_count": 11
  },
  {
   "metadata": {
    "ExecuteTime": {
     "end_time": "2024-09-16T01:39:04.247618Z",
     "start_time": "2024-09-16T01:39:03.978703Z"
    }
   },
   "cell_type": "code",
   "source": [
    "eng.eval(\"clear all\", nargout=0)\n",
    "\n",
    "# Assign Python variables to MATLAB workspace\n",
    "eng.workspace['d'] = degree\n",
    "nbins = 50\n",
    "figID = 1\n",
    "\n",
    "# Corrected eval statement\n",
    "eng.eval(f\"plot_distribution(d, 'com-dblp Degree Distribution', {nbins}, {figID})\", nargout=0)\n",
    "\n"
   ],
   "id": "97f3d9eb9521193",
   "outputs": [],
   "execution_count": 12
  },
  {
   "metadata": {
    "ExecuteTime": {
     "end_time": "2024-09-16T01:39:04.479915Z",
     "start_time": "2024-09-16T01:39:04.345266Z"
    }
   },
   "cell_type": "code",
   "source": [
    "# Assign Python variables to MATLAB workspace\n",
    "eng.workspace['lcc'] = lcc_values  # Local Clustering Coefficient vector\n",
    "figID = 2\n",
    "# Step 6: Call the MATLAB plotting function for LCC distribution\n",
    "eng.eval(f\"plot_distribution(lcc, 'com-dblp LCC Distribution', {nbins}, {figID})\", nargout=0)\n"
   ],
   "id": "e7b1fe2dbbc3c351",
   "outputs": [],
   "execution_count": 13
  },
  {
   "metadata": {
    "ExecuteTime": {
     "end_time": "2024-09-16T01:39:04.590312Z",
     "start_time": "2024-09-16T01:39:04.586314Z"
    }
   },
   "cell_type": "code",
   "source": [
    "\n",
    "eng.exit()"
   ],
   "id": "ff8add93c07493df",
   "outputs": [],
   "execution_count": 14
  }
 ],
 "metadata": {
  "kernelspec": {
   "display_name": "Python 3",
   "language": "python",
   "name": "python3"
  },
  "language_info": {
   "codemirror_mode": {
    "name": "ipython",
    "version": 3
   },
   "file_extension": ".py",
   "mimetype": "text/x-python",
   "name": "python",
   "nbconvert_exporter": "python",
   "pygments_lexer": "ipython3",
   "version": "3.10.0"
  }
 },
 "nbformat": 4,
 "nbformat_minor": 5
}
