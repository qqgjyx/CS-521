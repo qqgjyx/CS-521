{
 "cells": [
  {
   "cell_type": "code",
   "id": "initial_id",
   "metadata": {
    "collapsed": true,
    "ExecuteTime": {
     "end_time": "2024-09-12T22:28:29.251665Z",
     "start_time": "2024-09-12T22:28:27.247675Z"
    }
   },
   "source": [
    "import matlab.engine\n",
    "\n",
    "# Start MATLAB engine\n",
    "eng = matlab.engine.start_matlab()\n",
    "\n",
    "# Call MATLAB to print \"Hello, World!\"\n",
    "eng.eval(\"disp('MATLAB Engine for Python successfully started')\", nargout=0)\n",
    "\n",
    "# Stop MATLAB engine\n",
    "eng.quit()"
   ],
   "outputs": [
    {
     "name": "stdout",
     "output_type": "stream",
     "text": [
      "MATLAB Engine for Python successfully started\n"
     ]
    }
   ],
   "execution_count": 17
  },
  {
   "metadata": {},
   "cell_type": "markdown",
   "source": [
    "Task: Utilize `Mcodes/utility-functions/plot_distribution.m`\n",
    "\n",
    "Given an adjacency matrix, plot a rank distribution of the nodes by Python calling `plot_distribution` function.\n",
    "\n",
    "**Step 1: Create a matrix A with the following values:**"
   ],
   "id": "c38b6220ded2d690"
  },
  {
   "metadata": {
    "ExecuteTime": {
     "end_time": "2024-09-12T22:28:30.310319Z",
     "start_time": "2024-09-12T22:28:30.307019Z"
    }
   },
   "cell_type": "code",
   "source": [
    "import numpy as np\n",
    "\n",
    "\n",
    "# Parameters\n",
    "n = 50  # Number of nodes\n",
    "probability = 0.2  # Probability of an edge between nodes\n",
    "\n",
    "# Generate a random adjacency matrix with values 0 or 1 based on the probability\n",
    "adj_matrix = np.random.rand(n, n) < probability\n",
    "\n",
    "# Make sure there are no self-loops (no edges from a node to itself)\n",
    "np.fill_diagonal(adj_matrix, 0)\n",
    "\n",
    "# Convert the boolean matrix to integer type (1 for edges, 0 for no edges)\n",
    "adj_matrix = adj_matrix.astype(int)"
   ],
   "id": "5ee9cc9fbaa7626b",
   "outputs": [],
   "execution_count": 18
  },
  {
   "metadata": {},
   "cell_type": "markdown",
   "source": "",
   "id": "c71938ca168dc062"
  },
  {
   "metadata": {},
   "cell_type": "markdown",
   "source": "**Step 2: Calculate the rank_sequence, which store the rank of the nodes**",
   "id": "7ad55ea42c1c997"
  },
  {
   "metadata": {
    "ExecuteTime": {
     "end_time": "2024-09-12T22:28:32.348414Z",
     "start_time": "2024-09-12T22:28:32.346475Z"
    }
   },
   "cell_type": "code",
   "source": [
    "# Calculate the rank sequence of the nodes\n",
    "rank_sequence = np.sum(adj_matrix, axis=0)"
   ],
   "id": "949ad9094d1ade5b",
   "outputs": [],
   "execution_count": 19
  },
  {
   "metadata": {},
   "cell_type": "markdown",
   "source": "**Step 3: Call the `plot_distribution` function from MATLAB**",
   "id": "277989cbfc0ed248"
  },
  {
   "metadata": {
    "ExecuteTime": {
     "end_time": "2024-09-12T22:28:36.616999Z",
     "start_time": "2024-09-12T22:28:33.270430Z"
    }
   },
   "cell_type": "code",
   "source": [
    "# Start MATLAB engine\n",
    "eng = matlab.engine.start_matlab()\n",
    "\n",
    "# give the calculated rank_sequence to the engine\n",
    "eng.workspace['rank_sequence'] = rank_sequence\n",
    "\n",
    "# add the path to the MATLAB engine\n",
    "eng.addpath('Mcodes/utility-functions')\n",
    "\n",
    "# Call the plot_distribution function from MATLAB\n",
    "eng.eval(\"plot_distribution(rank_sequence, 'Degree Sequence', 20, 1)\", nargout=0)"
   ],
   "id": "778bb2761272d483",
   "outputs": [],
   "execution_count": 20
  },
  {
   "metadata": {},
   "cell_type": "markdown",
   "source": "**Step 5: Stop the MATLAB engine**",
   "id": "a95f10bb510ad5e5"
  },
  {
   "metadata": {},
   "cell_type": "code",
   "outputs": [],
   "execution_count": null,
   "source": "eng.quit()",
   "id": "add307a56a2185f1"
  },
  {
   "metadata": {},
   "cell_type": "code",
   "outputs": [],
   "execution_count": null,
   "source": "",
   "id": "de7e4821b8fd4340"
  }
 ],
 "metadata": {
  "kernelspec": {
   "display_name": "Python 3",
   "language": "python",
   "name": "python3"
  },
  "language_info": {
   "codemirror_mode": {
    "name": "ipython",
    "version": 2
   },
   "file_extension": ".py",
   "mimetype": "text/x-python",
   "name": "python",
   "nbconvert_exporter": "python",
   "pygments_lexer": "ipython2",
   "version": "2.7.6"
  }
 },
 "nbformat": 4,
 "nbformat_minor": 5
}
