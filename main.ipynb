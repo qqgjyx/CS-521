{
 "cells": [
  {
   "cell_type": "code",
   "id": "initial_id",
   "metadata": {
    "collapsed": true,
    "ExecuteTime": {
     "end_time": "2024-09-12T20:12:36.629571Z",
     "start_time": "2024-09-12T20:12:34.746822Z"
    }
   },
   "source": [
    "import matlab.engine\n",
    "\n",
    "# Start MATLAB engine\n",
    "eng = matlab.engine.start_matlab()\n",
    "\n",
    "# Call MATLAB to print \"Hello, World!\"\n",
    "eng.eval(\"disp('Hello, World!')\", nargout=0)\n",
    "\n",
    "# Stop MATLAB engine\n",
    "eng.quit()"
   ],
   "outputs": [
    {
     "name": "stdout",
     "output_type": "stream",
     "text": [
      "Hello, World!\n"
     ]
    }
   ],
   "execution_count": 8
  },
  {
   "metadata": {},
   "cell_type": "code",
   "outputs": [],
   "execution_count": null,
   "source": "",
   "id": "930a376a84555f8d"
  }
 ],
 "metadata": {
  "kernelspec": {
   "display_name": "Python 3",
   "language": "python",
   "name": "python3"
  },
  "language_info": {
   "codemirror_mode": {
    "name": "ipython",
    "version": 2
   },
   "file_extension": ".py",
   "mimetype": "text/x-python",
   "name": "python",
   "nbconvert_exporter": "python",
   "pygments_lexer": "ipython2",
   "version": "2.7.6"
  }
 },
 "nbformat": 4,
 "nbformat_minor": 5
}
